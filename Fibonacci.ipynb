{
 "cells": [
  {
   "cell_type": "code",
   "execution_count": 41,
   "id": "b494fe17-52b0-48a2-80d5-d894ae1e4e43",
   "metadata": {},
   "outputs": [
    {
     "name": "stdout",
     "output_type": "stream",
     "text": [
      "[0, 1, 1, 2, 3, 5, 8, 13, 21, 34, 55, 89, 144, 233, 377, 610, 987, 1597, 2584, 4181, 6765, 10946, 17711, 28657, 46368, 75025, 121393, 196418, 317811, 514229]\n"
     ]
    }
   ],
   "source": [
    "#program for fibonacci series\n",
    "def fibonacci(n):\n",
    " fib_series = []\n",
    " a,b=0,1\n",
    " for _ in range(n):\n",
    "        fib_series.append(a)\n",
    "        c=a+b\n",
    "        a=b\n",
    "        b=c\n",
    "    \n",
    " return fib_series\n",
    "num=15\n",
    "fibonacci_series= fibonacci(num)\n",
    "print(fibonacci_series)\n",
    "\n"
   ]
  },
  {
   "cell_type": "code",
   "execution_count": null,
   "id": "4f66fea6-07a5-4659-9808-245d576c88a9",
   "metadata": {},
   "outputs": [],
   "source": []
  }
 ],
 "metadata": {
  "kernelspec": {
   "display_name": "Python 3 (ipykernel)",
   "language": "python",
   "name": "python3"
  },
  "language_info": {
   "codemirror_mode": {
    "name": "ipython",
    "version": 3
   },
   "file_extension": ".py",
   "mimetype": "text/x-python",
   "name": "python",
   "nbconvert_exporter": "python",
   "pygments_lexer": "ipython3",
   "version": "3.11.4"
  }
 },
 "nbformat": 4,
 "nbformat_minor": 5
}
